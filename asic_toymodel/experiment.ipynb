{
 "cells": [
  {
   "cell_type": "code",
   "execution_count": 1,
   "id": "c0580b34-3636-464d-910f-58861818c464",
   "metadata": {},
   "outputs": [
    {
     "name": "stderr",
     "output_type": "stream",
     "text": [
      "INFO:root:using device: cuda\n"
     ]
    }
   ],
   "source": [
    "from src import toy_model\n",
    "from transformer_lens import HookedTransformerConfig\n",
    "from importlib import reload"
   ]
  },
  {
   "cell_type": "code",
   "execution_count": 6,
   "id": "2a502c8c-057c-4031-8727-1c721be3e269",
   "metadata": {},
   "outputs": [
    {
     "name": "stderr",
     "output_type": "stream",
     "text": [
      "INFO:root:using device: cuda\n"
     ]
    },
    {
     "data": {
      "text/plain": [
       "<module 'src.toy_model' from '/mnt/e/mechint/asic_toymodel/src/toy_model.py'>"
      ]
     },
     "execution_count": 6,
     "metadata": {},
     "output_type": "execute_result"
    }
   ],
   "source": [
    "reload(toy_model)"
   ]
  },
  {
   "cell_type": "code",
   "execution_count": 7,
   "id": "86b4cb42-7f98-416c-9df7-18d415005e5d",
   "metadata": {},
   "outputs": [],
   "source": [
    "cfg = HookedTransformerConfig(**toy_model.default_transformer_config)"
   ]
  },
  {
   "cell_type": "code",
   "execution_count": 8,
   "id": "e8a9ba67-0f4f-4181-a99b-81b5e0f8a6aa",
   "metadata": {},
   "outputs": [],
   "source": [
    "data_loader = toy_model.make_data_generator_withending_noisy_withprefix(cfg, n_groups=3, size_group=3, batch_size=126, p_noise=0.50)"
   ]
  },
  {
   "cell_type": "code",
   "execution_count": 10,
   "id": "1632c4e3-399c-4fe4-8e73-e8dcd6f7e64e",
   "metadata": {},
   "outputs": [],
   "source": [
    "x = next(data_loader)"
   ]
  },
  {
   "cell_type": "code",
   "execution_count": 11,
   "id": "7cd01ddc-12f1-4adc-8eb2-c15e054dab48",
   "metadata": {},
   "outputs": [
    {
     "data": {
      "text/plain": [
       "tensor([[510,   7,   8, 511],\n",
       "        [510,   8,   6, 511],\n",
       "        [510,   1,   2, 511],\n",
       "        [510,   4,   5, 511],\n",
       "        [510,   3,   4, 511],\n",
       "        [510,   3,   4, 511],\n",
       "        [510,   1,   2, 511],\n",
       "        [510,   6,   7, 511],\n",
       "        [510,   3,   4, 511],\n",
       "        [510,   5,   3, 511],\n",
       "        [510,   4,   5, 511],\n",
       "        [510,   8,   6, 511],\n",
       "        [510,   5,   3, 511],\n",
       "        [510,   3,   4, 511],\n",
       "        [510,   3,   4, 511],\n",
       "        [510,   5,   3, 511],\n",
       "        [510,   0,   1, 511],\n",
       "        [510,   3,   4, 511],\n",
       "        [510,   4,   5, 511],\n",
       "        [510,   5,   3, 511],\n",
       "        [510,   5,   3, 511],\n",
       "        [510,   8,   6, 511],\n",
       "        [510,   4,   5, 511],\n",
       "        [510,   8,   6, 511],\n",
       "        [510,   0,   1, 511],\n",
       "        [510,   5,   3, 511],\n",
       "        [510,   0,   1, 511],\n",
       "        [510,   0,   1, 511],\n",
       "        [510,   4,   5, 511],\n",
       "        [510,   0,   1, 511],\n",
       "        [510,   8,   6, 511],\n",
       "        [510,   1,   2, 511],\n",
       "        [510,   0,   1, 511],\n",
       "        [510,   0,   1, 511],\n",
       "        [510,   1,   2, 511],\n",
       "        [510,   8,   6, 511],\n",
       "        [510,   0,   1, 511],\n",
       "        [510,   3,   4, 511],\n",
       "        [510,   4,   5, 511],\n",
       "        [510,   0,   1, 511],\n",
       "        [510,   7,   8, 511],\n",
       "        [510,   3,   4, 511],\n",
       "        [510,   1,   2, 511],\n",
       "        [510,   8,   6, 511],\n",
       "        [510,   6,   7, 511],\n",
       "        [510,   6,   7, 511],\n",
       "        [510,   5,   3, 511],\n",
       "        [510,   0,   1, 511],\n",
       "        [510,   5,   3, 511],\n",
       "        [510,   7,   8, 511],\n",
       "        [510,   1,   2, 511],\n",
       "        [510,   0,   1, 511],\n",
       "        [510,   7,   8, 511],\n",
       "        [510,   6,   7, 511],\n",
       "        [510,   3,   4, 511],\n",
       "        [510,   3,   4, 511],\n",
       "        [510,   3,   4, 511],\n",
       "        [510,   7,   8, 511],\n",
       "        [510,   6,   7, 511],\n",
       "        [510,   8,   6, 511],\n",
       "        [510,   4,   5, 511],\n",
       "        [510,   1,   2, 511]], device='cuda:0')"
      ]
     },
     "execution_count": 11,
     "metadata": {},
     "output_type": "execute_result"
    }
   ],
   "source": [
    "x[x[:, 0] == 510]"
   ]
  },
  {
   "cell_type": "code",
   "execution_count": 13,
   "id": "c5fb3a6f-535f-4f84-b899-20ff080cef0c",
   "metadata": {},
   "outputs": [
    {
     "data": {
      "text/plain": [
       "tensor([[509,   1,   4, 511],\n",
       "        [509,   3,   3, 511],\n",
       "        [509,   6,   2, 511],\n",
       "        [509,   4,   5, 511],\n",
       "        [509,   5,   3, 511],\n",
       "        [509,   2,   6, 511],\n",
       "        [509,   8,   1, 511],\n",
       "        [509,   8,   4, 511],\n",
       "        [509,   3,   4, 511],\n",
       "        [509,   3,   1, 511],\n",
       "        [509,   5,   1, 511],\n",
       "        [509,   2,   0, 511],\n",
       "        [509,   2,   7, 511],\n",
       "        [509,   7,   1, 511],\n",
       "        [509,   3,   7, 511],\n",
       "        [509,   6,   0, 511],\n",
       "        [509,   2,   2, 511],\n",
       "        [509,   4,   7, 511],\n",
       "        [509,   4,   3, 511],\n",
       "        [509,   2,   7, 511],\n",
       "        [509,   8,   8, 511],\n",
       "        [509,   3,   8, 511],\n",
       "        [509,   4,   6, 511],\n",
       "        [509,   3,   0, 511],\n",
       "        [509,   4,   1, 511],\n",
       "        [509,   7,   4, 511],\n",
       "        [509,   4,   0, 511],\n",
       "        [509,   2,   4, 511],\n",
       "        [509,   3,   1, 511],\n",
       "        [509,   0,   6, 511],\n",
       "        [509,   4,   2, 511],\n",
       "        [509,   4,   4, 511],\n",
       "        [509,   5,   4, 511],\n",
       "        [509,   3,   8, 511],\n",
       "        [509,   1,   0, 511],\n",
       "        [509,   2,   4, 511],\n",
       "        [509,   7,   5, 511],\n",
       "        [509,   1,   6, 511],\n",
       "        [509,   2,   3, 511],\n",
       "        [509,   4,   7, 511],\n",
       "        [509,   2,   7, 511],\n",
       "        [509,   2,   1, 511],\n",
       "        [509,   8,   5, 511],\n",
       "        [509,   4,   1, 511],\n",
       "        [509,   0,   4, 511],\n",
       "        [509,   0,   8, 511],\n",
       "        [509,   0,   7, 511],\n",
       "        [509,   1,   2, 511],\n",
       "        [509,   1,   5, 511],\n",
       "        [509,   0,   7, 511],\n",
       "        [509,   3,   2, 511],\n",
       "        [509,   1,   1, 511],\n",
       "        [509,   1,   2, 511],\n",
       "        [509,   8,   1, 511],\n",
       "        [509,   6,   1, 511],\n",
       "        [509,   8,   3, 511],\n",
       "        [509,   3,   3, 511],\n",
       "        [509,   0,   1, 511],\n",
       "        [509,   1,   5, 511],\n",
       "        [509,   5,   7, 511],\n",
       "        [509,   5,   8, 511],\n",
       "        [509,   3,   8, 511],\n",
       "        [509,   0,   8, 511],\n",
       "        [509,   7,   1, 511]], device='cuda:0')"
      ]
     },
     "execution_count": 13,
     "metadata": {},
     "output_type": "execute_result"
    }
   ],
   "source": [
    "x[x[:, 0] == 509]"
   ]
  },
  {
   "cell_type": "code",
   "execution_count": null,
   "id": "30bab079-e9bf-4708-b015-9f1c9f39a14e",
   "metadata": {},
   "outputs": [],
   "source": []
  }
 ],
 "metadata": {
  "kernelspec": {
   "display_name": "mechint",
   "language": "python",
   "name": "mechint"
  },
  "language_info": {
   "codemirror_mode": {
    "name": "ipython",
    "version": 3
   },
   "file_extension": ".py",
   "mimetype": "text/x-python",
   "name": "python",
   "nbconvert_exporter": "python",
   "pygments_lexer": "ipython3",
   "version": "3.12.1"
  }
 },
 "nbformat": 4,
 "nbformat_minor": 5
}
